{
 "cells": [
  {
   "cell_type": "markdown",
   "id": "f0d9bc9f",
   "metadata": {},
   "source": [
    "## Object Attribute\n"
   ]
  },
  {
   "cell_type": "markdown",
   "id": "353bdcd1",
   "metadata": {},
   "source": [
    "### dir()获得所有属性"
   ]
  },
  {
   "cell_type": "markdown",
   "id": "9af1b252",
   "metadata": {},
   "source": [
    "新建一个最基本的函数，其具有36个属性"
   ]
  },
  {
   "cell_type": "code",
   "execution_count": null,
   "id": "28ebe886",
   "metadata": {},
   "outputs": [],
   "source": [
    "def demo():\n",
    "    pass\n",
    "\n",
    "print(dir(demo))\n",
    "print(len(dir(demo)))"
   ]
  },
  {
   "cell_type": "markdown",
   "id": "430861c7",
   "metadata": {},
   "source": [
    "### __name__属性"
   ]
  },
  {
   "cell_type": "markdown",
   "id": "d8072f02",
   "metadata": {},
   "source": [
    "获得函数名"
   ]
  },
  {
   "cell_type": "code",
   "execution_count": null,
   "id": "55c77e0d",
   "metadata": {},
   "outputs": [],
   "source": [
    "def demo():\n",
    "    pass\n",
    "\n",
    "demo.__name__"
   ]
  },
  {
   "cell_type": "markdown",
   "id": "b7df23fd",
   "metadata": {},
   "source": [
    "### _module__属性"
   ]
  },
  {
   "cell_type": "code",
   "execution_count": null,
   "id": "92b357e2",
   "metadata": {},
   "outputs": [],
   "source": [
    "def demo():\n",
    "    pass\n",
    "\n",
    "print(demo.__module__)\n"
   ]
  },
  {
   "cell_type": "markdown",
   "id": "122bf6e3",
   "metadata": {},
   "source": [
    "### __defaults__属性"
   ]
  },
  {
   "cell_type": "code",
   "execution_count": null,
   "id": "5ed48861",
   "metadata": {},
   "outputs": [],
   "source": [
    "def demo(a = \"1\",b = 2,c = 3):\n",
    "    pass\n",
    "\n",
    "demo.__defaults__"
   ]
  },
  {
   "cell_type": "markdown",
   "id": "ed6f4478",
   "metadata": {},
   "source": [
    "### __kwdefaults__属性"
   ]
  },
  {
   "cell_type": "markdown",
   "id": "09c91bcc",
   "metadata": {},
   "source": [
    "获得关键字参数"
   ]
  },
  {
   "cell_type": "code",
   "execution_count": null,
   "id": "1cef2a46",
   "metadata": {},
   "outputs": [
    {
     "name": "stdout",
     "output_type": "stream",
     "text": [
      "{'c': '3'}\n"
     ]
    }
   ],
   "source": [
    "def demo(x,*,c = \"3\"):\n",
    "    pass\n",
    "\n",
    "print(demo.__kwdefaults__)"
   ]
  },
  {
   "cell_type": "markdown",
   "id": "c21622db",
   "metadata": {},
   "source": [
    "### __doc__属性"
   ]
  },
  {
   "cell_type": "markdown",
   "id": "92a86483",
   "metadata": {},
   "source": [
    "获得函数或者类的文档字符串，一般用三个双引号表示，经测试，一个双引号或者一个单引号都可以"
   ]
  },
  {
   "cell_type": "code",
   "execution_count": null,
   "id": "2a9972c7",
   "metadata": {},
   "outputs": [],
   "source": [
    "def demo():\n",
    "    \"\"\" 测试函数\"\"\"\n",
    "    pass\n",
    "\n",
    "print(demo.__doc__)"
   ]
  },
  {
   "cell_type": "code",
   "execution_count": null,
   "id": "0462c081",
   "metadata": {},
   "outputs": [],
   "source": [
    "class demo:\n",
    "    \"\"\"Test \"\"\"\n",
    "\n",
    "print(demo.__doc__)"
   ]
  }
 ],
 "metadata": {
  "kernelspec": {
   "display_name": "pythonall",
   "language": "python",
   "name": "pythonall"
  },
  "language_info": {
   "codemirror_mode": {
    "name": "ipython",
    "version": 3
   },
   "file_extension": ".py",
   "mimetype": "text/x-python",
   "name": "python",
   "nbconvert_exporter": "python",
   "pygments_lexer": "ipython3",
   "version": "3.10.13"
  }
 },
 "nbformat": 4,
 "nbformat_minor": 5
}
