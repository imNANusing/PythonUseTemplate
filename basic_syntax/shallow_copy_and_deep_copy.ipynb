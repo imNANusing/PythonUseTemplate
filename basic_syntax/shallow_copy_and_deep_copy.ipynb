{
 "cells": [
  {
   "cell_type": "markdown",
   "id": "4d930245",
   "metadata": {},
   "source": [
    "## 浅拷贝和深拷贝\n"
   ]
  },
  {
   "cell_type": "markdown",
   "id": "e8b33ec5",
   "metadata": {},
   "source": [
    "### 浅拷贝"
   ]
  },
  {
   "cell_type": "markdown",
   "id": "6df1a103",
   "metadata": {},
   "source": [
    "浅拷贝只拷贝最外面一层对象，例如例子里的a = [1, [2, 3]],只拷贝a = []，而里面的[2, 3]对象依然被引用。"
   ]
  },
  {
   "cell_type": "code",
   "execution_count": 3,
   "id": "52c490f2",
   "metadata": {},
   "outputs": [
    {
     "name": "stdout",
     "output_type": "stream",
     "text": [
      "[1, [2, 3], 4]\n",
      "[1, [2, 3]]\n"
     ]
    }
   ],
   "source": [
    "import copy\n",
    "\n",
    "a = [1, [2, 3]]\n",
    "b = copy.copy(a)\n",
    "\n",
    "# a[0] = 2\n",
    "a.append(4)\n",
    "\n",
    "print(a)        # 输出：[1, [2, 3, 4]]\n",
    "print(b)        # 输出：[1, [2, 3, 4]] —— b 中的嵌套列表也被改变了"
   ]
  },
  {
   "cell_type": "markdown",
   "id": "ce00fb14",
   "metadata": {},
   "source": [
    "验证方法"
   ]
  },
  {
   "cell_type": "code",
   "execution_count": null,
   "id": "8dc6ab6c",
   "metadata": {},
   "outputs": [],
   "source": [
    "import copy\n",
    "\n",
    "a = [1, [2, 3]]\n",
    "b = copy.copy(a)\n",
    "\n",
    "print(id(a))         # 外层 a 的地址\n",
    "print(id(b))         # 外层 b 的地址 —— 不一样！说明是两个独立的列表\n",
    "\n",
    "print(id(a[1]))      # 内部列表的地址\n",
    "print(id(b[1]))      # 内部列表的地址 —— 一样！说明是同一个对象"
   ]
  },
  {
   "cell_type": "markdown",
   "id": "cf3675b5",
   "metadata": {},
   "source": [
    "### 深拷贝"
   ]
  },
  {
   "cell_type": "code",
   "execution_count": 5,
   "id": "a9a91a7f",
   "metadata": {},
   "outputs": [
    {
     "name": "stdout",
     "output_type": "stream",
     "text": [
      "[1, [2, 3, 4]]\n",
      "[1, [2, 3]]\n"
     ]
    }
   ],
   "source": [
    "import copy\n",
    "\n",
    "a = [1, [2, 3]]\n",
    "b = copy.deepcopy(a)\n",
    "\n",
    "a[1].append(4)\n",
    "\n",
    "print(a)        # 输出：[1, [2, 3, 4]]\n",
    "print(b)        # 输出：[1, [2, 3]] —— b 完全不受 a 的修改影响"
   ]
  },
  {
   "cell_type": "markdown",
   "id": "9b055396",
   "metadata": {},
   "source": [
    "验证方法"
   ]
  },
  {
   "cell_type": "code",
   "execution_count": null,
   "id": "19b0b8c7",
   "metadata": {},
   "outputs": [
    {
     "name": "stdout",
     "output_type": "stream",
     "text": [
      "2615977818880\n",
      "2615977507776\n",
      "2615979141056\n",
      "2615979144960\n"
     ]
    }
   ],
   "source": [
    "import copy\n",
    "\n",
    "a = [1, [2, 3]]\n",
    "b = copy.deepcopy(a)\n",
    "\n",
    "print(id(a))         # 外层 a 的地址\n",
    "print(id(b))         # 外层 b 的地址 —— 不一样！说明是两个独立的列表\n",
    "\n",
    "print(id(a[1]))      # 内部列表的地址\n",
    "print(id(b[1]))      # 内部列表的地址 —— 不一样！说明不是同一个对象"
   ]
  },
  {
   "cell_type": "markdown",
   "id": "25104b13",
   "metadata": {},
   "source": [
    "### 不可变对象拷贝"
   ]
  },
  {
   "cell_type": "markdown",
   "id": "bd491f0c",
   "metadata": {},
   "source": [
    "不可变对象拷贝地址都是一样的"
   ]
  },
  {
   "cell_type": "code",
   "execution_count": null,
   "id": "ceecc579",
   "metadata": {},
   "outputs": [
    {
     "name": "stdout",
     "output_type": "stream",
     "text": [
      "2615979135856\n",
      "2615979135856\n",
      "2615979135856\n"
     ]
    }
   ],
   "source": [
    "import copy\n",
    "\n",
    "a = \"dadw\"\n",
    "b = copy.copy(a)\n",
    "c = copy.deepcopy(a)\n",
    "\n",
    "print(id(a))         \n",
    "print(id(b))    \n",
    "print(id(c))     \n"
   ]
  },
  {
   "cell_type": "markdown",
   "id": "e1be3d0d",
   "metadata": {},
   "source": [
    "下面的代码证明了不可变对象在内存中占用的地址只要建立了就不会变，在程序运行完或者没有调用时就会自动回收。"
   ]
  },
  {
   "cell_type": "code",
   "execution_count": null,
   "id": "e73768e4",
   "metadata": {},
   "outputs": [
    {
     "name": "stdout",
     "output_type": "stream",
     "text": [
      "2615902994672\n",
      "2615902994672\n"
     ]
    }
   ],
   "source": [
    "a = 1 \n",
    "b = 1\n",
    "print(id(a))\n",
    "print(id(b))"
   ]
  },
  {
   "cell_type": "markdown",
   "id": "bd497cf1",
   "metadata": {},
   "source": [
    "注：不可变对象（如整数、字符串、元组）通常不需要拷贝，或者说他们拷贝后还是原来的对象，可变对象（如列表、字典）视情况而定"
   ]
  }
 ],
 "metadata": {
  "kernelspec": {
   "display_name": "pythonall",
   "language": "python",
   "name": "pythonall"
  },
  "language_info": {
   "codemirror_mode": {
    "name": "ipython",
    "version": 3
   },
   "file_extension": ".py",
   "mimetype": "text/x-python",
   "name": "python",
   "nbconvert_exporter": "python",
   "pygments_lexer": "ipython3",
   "version": "3.10.13"
  }
 },
 "nbformat": 4,
 "nbformat_minor": 5
}
