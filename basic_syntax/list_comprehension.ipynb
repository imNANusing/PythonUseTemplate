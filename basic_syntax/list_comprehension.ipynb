{
 "cells": [
  {
   "cell_type": "markdown",
   "id": "dae93203",
   "metadata": {},
   "source": [
    "## 列表推导式"
   ]
  },
  {
   "cell_type": "markdown",
   "id": "ceaf85fd",
   "metadata": {},
   "source": [
    "[表达式 for 变量 in 可迭代对象 if 条件] 其中if是可选的，从左到右按顺序计算"
   ]
  },
  {
   "cell_type": "markdown",
   "id": "525fd827",
   "metadata": {},
   "source": [
    "### 1、in后面跟其他可迭代对象,如字符串"
   ]
  },
  {
   "cell_type": "code",
   "execution_count": 1,
   "id": "20d411a6",
   "metadata": {},
   "outputs": [
    {
     "name": "stdout",
     "output_type": "stream",
     "text": [
      "['ppppppp', 'yyyyyyy', 'ttttttt', 'hhhhhhh', 'ooooooo', 'nnnnnnn']\n"
     ]
    }
   ],
   "source": [
    "list_c = [7 * c for c in \"python\"]\n",
    "print(list_c)"
   ]
  },
  {
   "cell_type": "markdown",
   "id": "a002f3d9",
   "metadata": {},
   "source": [
    "### 2、带if条件语句的列表推导式\n"
   ]
  },
  {
   "cell_type": "markdown",
   "id": "9b6c8d1d",
   "metadata": {},
   "source": [
    "先算for循环 再算if语句\n"
   ]
  },
  {
   "cell_type": "code",
   "execution_count": 2,
   "id": "d3773004",
   "metadata": {},
   "outputs": [
    {
     "name": "stdout",
     "output_type": "stream",
     "text": [
      "[1, 3, 5]\n"
     ]
    }
   ],
   "source": [
    "list_d = [d for d in range(6) if d % 2 != 0]\n",
    "print(list_d)"
   ]
  },
  {
   "cell_type": "markdown",
   "id": "42b55afa",
   "metadata": {},
   "source": [
    "### 3、多个for循环"
   ]
  },
  {
   "cell_type": "markdown",
   "id": "3f0c23c1",
   "metadata": {},
   "source": [
    "先算左边for，再算右边for"
   ]
  },
  {
   "cell_type": "code",
   "execution_count": 3,
   "id": "44791639",
   "metadata": {},
   "outputs": [
    {
     "name": "stdout",
     "output_type": "stream",
     "text": [
      "[(0, 25), (0, 100), (1, 25), (1, 100), (2, 25), (2, 100)]\n"
     ]
    }
   ],
   "source": [
    "# 多个for循环\n",
    "list_e = [(e, f * f) for e in range(3) for f in range(5, 15, 5)]\n",
    "print(list_e)\n"
   ]
  },
  {
   "cell_type": "markdown",
   "id": "4c6d1df2",
   "metadata": {},
   "source": [
    "\n",
    "###  4、嵌套列表推导式,多个并列条件"
   ]
  },
  {
   "cell_type": "code",
   "execution_count": 4,
   "id": "43b7bafa",
   "metadata": {},
   "outputs": [
    {
     "name": "stdout",
     "output_type": "stream",
     "text": [
      "[[0, 1, 2], [3, 4, 5], [6, 7, 8], [9, 10, 11], [12, 13, 14], [15, 16, 17], [18, 19, 20]]\n"
     ]
    }
   ],
   "source": [
    "\n",
    "list_g = [[x for x in range(g - 3, g)] for g in range(22) if g % 3 == 0 and g != 0]\n",
    "print(list_g)"
   ]
  }
 ],
 "metadata": {
  "kernelspec": {
   "display_name": "pythonall",
   "language": "python",
   "name": "pythonall"
  },
  "language_info": {
   "codemirror_mode": {
    "name": "ipython",
    "version": 3
   },
   "file_extension": ".py",
   "mimetype": "text/x-python",
   "name": "python",
   "nbconvert_exporter": "python",
   "pygments_lexer": "ipython3",
   "version": "3.10.13"
  }
 },
 "nbformat": 4,
 "nbformat_minor": 5
}
