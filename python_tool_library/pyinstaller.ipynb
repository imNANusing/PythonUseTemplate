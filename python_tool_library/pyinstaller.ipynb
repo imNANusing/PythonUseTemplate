{
 "cells": [
  {
   "cell_type": "markdown",
   "id": "1e86fe9f",
   "metadata": {},
   "source": [
    "### 打包python文件为可执行程序"
   ]
  },
  {
   "cell_type": "markdown",
   "id": "de8b82aa",
   "metadata": {},
   "source": [
    "pyinstaller中文手册\n",
    "https://muzing.gitbook.io/pyinstaller-docs-zh-cn"
   ]
  },
  {
   "cell_type": "markdown",
   "id": "8d0751ea",
   "metadata": {},
   "source": [
    "pyinstaller -F demo.py"
   ]
  }
 ],
 "metadata": {
  "kernelspec": {
   "display_name": "pythonall",
   "language": "python",
   "name": "pythonall"
  },
  "language_info": {
   "codemirror_mode": {
    "name": "ipython",
    "version": 3
   },
   "file_extension": ".py",
   "mimetype": "text/x-python",
   "name": "python",
   "nbconvert_exporter": "python",
   "pygments_lexer": "ipython3",
   "version": "3.10.13"
  }
 },
 "nbformat": 4,
 "nbformat_minor": 5
}
