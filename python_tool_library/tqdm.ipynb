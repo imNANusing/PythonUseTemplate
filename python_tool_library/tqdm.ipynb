{
 "cells": [
  {
   "cell_type": "markdown",
   "id": "ef38717f",
   "metadata": {},
   "source": [
    "## tqdm库"
   ]
  },
  {
   "cell_type": "markdown",
   "id": "54744ec3",
   "metadata": {},
   "source": [
    "### tqdm模块参数介绍"
   ]
  },
  {
   "cell_type": "code",
   "execution_count": null,
   "id": "32ec8bb1",
   "metadata": {},
   "outputs": [],
   "source": [
    "\n",
    "# class tqdm(object):\n",
    "#     \"\"\"\n",
    "#   Decorate an iterable object, returning an iterator which acts exactly\n",
    "#   like the original iterable, but prints a dynamically updating\n",
    "#   progressbar every time a value is requested.\n",
    "#   \"\"\"\n",
    "#\n",
    "#     def __init__(self, iterable=None, desc=None, total=None, leave=False,\n",
    "#                  file=sys.stderr, ncols=None, mininterval=0.1,\n",
    "#                  maxinterval=10.0, miniters=None, ascii=None,\n",
    "#                  disable=False, unit='it', unit_scale=False,\n",
    "#                  dynamic_ncols=False, smoothing=0.3, nested=False,\n",
    "#                  bar_format=None, initial=0, gui=False):\n",
    "# ● iterable: 可迭代的对象, 在手动更新时不需要进行设置\n",
    "# ● desc: 字符串, 左边进度条描述文字\n",
    "# ● total: 总的项目数  当你的迭代器没有 __len__ 方法，或者你使用的是生成器、自定义迭代器时，tqdm 就无法自动推断总长度，此时必须手动传入total。\n",
    "# ● leave: bool值, 迭代完成后是否保留进度条 \n",
    "# ● file: 输出指向位置, 默认是终端, 一般不需要设置\n",
    "# ● ncols: 调整进度条宽度, 默认是根据环境自动调节长度, 如果设置为0, 就没有进度条, 只有输出的信息\n",
    "# ● unit: 描述处理项目的文字, 默认是'it', 例如: 100 it/s, 处理照片的话设置为'img' ,则为 100 img/s\n",
    "# ● unit_scale: 自动根据国际标准进行项目处理速度单位的换算, 例如 100000 it/s >> 100k it/s\n",
    "# ● mininterval：最小间隔时间，单位为秒。\n",
    "# ● maxinterval：最大间隔时间，单位为秒。\n",
    "# ● ascii：是否使用ASCII字符显示进度条"
   ]
  },
  {
   "cell_type": "markdown",
   "id": "2dbb9a4c",
   "metadata": {},
   "source": [
    "### 示例"
   ]
  },
  {
   "cell_type": "code",
   "execution_count": null,
   "id": "b3a7872b",
   "metadata": {},
   "outputs": [],
   "source": [
    "\n",
    "import time\n",
    "from tqdm import tqdm\n",
    "\n",
    "for i in tqdm(range(200), desc='Processing'):\n",
    "    time.sleep(0.1)\n",
    "    "
   ]
  },
  {
   "cell_type": "code",
   "execution_count": null,
   "id": "87c5b284",
   "metadata": {},
   "outputs": [],
   "source": [
    "from tqdm import trange\n",
    "for i in trange(1,4):\n",
    "    print('第%d次执行'%i)\n",
    "    time.sleep(1)"
   ]
  },
  {
   "cell_type": "code",
   "execution_count": null,
   "id": "67a8cb26",
   "metadata": {},
   "outputs": [],
   "source": [
    "for i in tqdm(range(100), desc=\"Processing\", unit=\"images\", unit_scale=True, leave=False):\n",
    "    # 模拟一些耗时操作\n",
    "    time.sleep(0.01)"
   ]
  },
  {
   "cell_type": "code",
   "execution_count": null,
   "id": "15766d8e",
   "metadata": {},
   "outputs": [],
   "source": [
    "for i in tqdm(range(100), desc=\"Processing\", unit=\"images\", unit_scale=True, leave=True, mininterval=0.01, maxinterval=1.0, ascii=True, ncols=120):\n",
    "    # 模拟一些耗时操作\n",
    "    time.sleep(0.01)"
   ]
  }
 ],
 "metadata": {
  "kernelspec": {
   "display_name": "pythonall",
   "language": "python",
   "name": "pythonall"
  },
  "language_info": {
   "codemirror_mode": {
    "name": "ipython",
    "version": 3
   },
   "file_extension": ".py",
   "mimetype": "text/x-python",
   "name": "python",
   "nbconvert_exporter": "python",
   "pygments_lexer": "ipython3",
   "version": "3.10.13"
  }
 },
 "nbformat": 4,
 "nbformat_minor": 5
}
