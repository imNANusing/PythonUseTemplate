{
 "cells": [
  {
   "cell_type": "markdown",
   "id": "f0594b12",
   "metadata": {},
   "source": [
    "webbrowser用来操控浏览器打开网页的模块\n"
   ]
  },
  {
   "cell_type": "markdown",
   "id": "14f2a9a1",
   "metadata": {},
   "source": [
    "### 基础用法"
   ]
  },
  {
   "cell_type": "code",
   "execution_count": null,
   "id": "72c15550",
   "metadata": {},
   "outputs": [],
   "source": [
    "import webbrowser\n",
    "import time\n",
    "\n",
    "urls = [\n",
    "    \"www.baidu.com\",\n",
    "]\n",
    "for url in urls:\n",
    "    webbrowser.open(url)\n",
    "    time.sleep(1)  # 等待1秒再打开下一个网页，以便用户有时间看到前一个网页"
   ]
  }
 ],
 "metadata": {
  "kernelspec": {
   "display_name": "pythonall",
   "language": "python",
   "name": "pythonall"
  },
  "language_info": {
   "codemirror_mode": {
    "name": "ipython",
    "version": 3
   },
   "file_extension": ".py",
   "mimetype": "text/x-python",
   "name": "python",
   "nbconvert_exporter": "python",
   "pygments_lexer": "ipython3",
   "version": "3.10.13"
  }
 },
 "nbformat": 4,
 "nbformat_minor": 5
}
