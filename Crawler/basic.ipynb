{
 "cells": [
  {
   "cell_type": "code",
   "execution_count": null,
   "id": "74b422c6",
   "metadata": {},
   "outputs": [],
   "source": [
    "import requests\n",
    "\n",
    "header = {\n",
    "    \"User-Agent\": \"Mozilla/5.0 (Linux; Android 6.0; Nexus 5 Build/MRA58N) AppleWebKit/537.36 (KHTML, like Gecko) Chrome/75.0.3770.100 Mobile Safari/537.36\"\n",
    "}\n",
    "url = \"https://movie.douban.com/top250?start=0\"\n",
    "res = requests.get(url , headers = header)\n",
    "res.ok"
   ]
  },
  {
   "cell_type": "markdown",
   "id": "8c31d6ba",
   "metadata": {},
   "source": [
    "## 第一种re提取"
   ]
  },
  {
   "cell_type": "code",
   "execution_count": null,
   "id": "64badd95",
   "metadata": {},
   "outputs": [],
   "source": [
    "import re\n",
    "\n",
    "way = re.compile(r'class=\"\">.*?<span class=\"title\">(?P<name>.*?)</span>',re.S)\n",
    "full = way.finditer(res.text)\n",
    "for i in full:\n",
    "    print(i.group(\"name\"))"
   ]
  },
  {
   "cell_type": "markdown",
   "id": "1aacef7a",
   "metadata": {},
   "source": [
    "## 第二种beautifulsoup"
   ]
  },
  {
   "cell_type": "code",
   "execution_count": null,
   "id": "e0729c4a",
   "metadata": {},
   "outputs": [],
   "source": [
    "\n",
    "from bs4 import BeautifulSoup\n",
    "get0 = BeautifulSoup(res.text,\"lxml\")\n",
    "get1 = get0.select(\".hd>a\") #get1 = get0.select(\".hd>a\",limit=2) limit是限制个数\n",
    "for i in get1:\n",
    "    print(i.span.string)#print(i.span.get_text())获得文本\n",
    "# #tag string attrs 整个文档beautifulsoup comment\n",
    "# print(get0.prettify()) # 美化格式\n",
    "#get1 = get0.select(\"。hd~av\")兄弟标签\n",
    "\n",
    "#2\n",
    "# get1 = BeautifulSoup(res.text,\"lxml\")\n",
    "# get2 = get1.select(\".item\")\n",
    "# # print(get2)\n",
    "# for i in get2:\n",
    "#     print(i.find(\"span\").string,i.find(\"p\",class_=\"\").get_text().replace(\" \",\"\"))#只是找第一个答案"
   ]
  },
  {
   "cell_type": "code",
   "execution_count": null,
   "id": "a48217c9",
   "metadata": {},
   "outputs": [],
   "source": [
    "#第三种 xpath\n",
    "from lxml import etree\n",
    "res1 = etree.HTML(res.text)\n",
    "res2 = res1.xpath('//*[@id=\"content\"]/div/div[1]/ol/li/div')\n",
    "for i in res2 :\n",
    "    print(i.xpath('./div[2]/div[1]/a/span[1]/text()')[0],i.xpath('./div[2]/div[2]/p[1]/text()')[1].replace(\" \",\"\"),end=\"\")"
   ]
  },
  {
   "cell_type": "code",
   "execution_count": null,
   "id": "6257d668",
   "metadata": {},
   "outputs": [],
   "source": []
  },
  {
   "cell_type": "code",
   "execution_count": null,
   "id": "f34d28f3",
   "metadata": {},
   "outputs": [],
   "source": []
  }
 ],
 "metadata": {
  "kernelspec": {
   "display_name": "pythonall",
   "language": "python",
   "name": "pythonall"
  },
  "language_info": {
   "codemirror_mode": {
    "name": "ipython",
    "version": 3
   },
   "file_extension": ".py",
   "mimetype": "text/x-python",
   "name": "python",
   "nbconvert_exporter": "python",
   "pygments_lexer": "ipython3",
   "version": "3.10.13"
  }
 },
 "nbformat": 4,
 "nbformat_minor": 5
}
